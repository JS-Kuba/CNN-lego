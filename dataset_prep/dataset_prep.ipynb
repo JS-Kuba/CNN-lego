{
 "cells": [
  {
   "cell_type": "markdown",
   "metadata": {},
   "source": [
    "## Przygotowanie struktury zbioru danych z katalogu plików"
   ]
  },
  {
   "cell_type": "code",
   "execution_count": 14,
   "metadata": {},
   "outputs": [],
   "source": [
    "import os\n",
    "import cv2\n",
    "import numpy as np\n",
    "\n",
    "def category_to_number(category: str) -> int:\n",
    "    mapping = {\n",
    "        'flower': 0,\n",
    "        'leaf': 1,\n",
    "        'stone': 2,\n",
    "        'wood': 3, \n",
    "    }\n",
    "    return mapping[category]\n",
    "\n",
    "def load_images_from_folder(folder):\n",
    "    images = []\n",
    "    categories = sorted(os.listdir(folder))\n",
    "    for category_index, category in enumerate(categories):\n",
    "        category_path = os.path.join(folder, category)\n",
    "        for filename in os.listdir(category_path):\n",
    "            img_path = os.path.join(category_path, filename)\n",
    "            if img_path.endswith(\".jpg\"):\n",
    "                img = cv2.imread(img_path)\n",
    "                if img is not None:\n",
    "                    images.append({\"image\": img, \n",
    "                                   \"category\": category,\n",
    "                                   \"label\": category_to_number(category)\n",
    "                                   })\n",
    "    return images\n",
    "\n",
    "train = load_images_from_folder(\"dataset_v3/train\")\n",
    "valid = load_images_from_folder(\"dataset_v3/valid\")\n",
    "test = load_images_from_folder(\"dataset_v3/test\")"
   ]
  },
  {
   "cell_type": "code",
   "execution_count": 15,
   "metadata": {},
   "outputs": [
    {
     "name": "stdout",
     "output_type": "stream",
     "text": [
      "[[[153 173 184]\n",
      "  [153 173 184]\n",
      "  [153 173 184]\n",
      "  ...\n",
      "  [152 171 184]\n",
      "  [152 171 184]\n",
      "  [152 171 184]]\n",
      "\n",
      " [[153 173 184]\n",
      "  [153 173 184]\n",
      "  [153 173 184]\n",
      "  ...\n",
      "  [152 171 184]\n",
      "  [152 171 184]\n",
      "  [152 171 184]]\n",
      "\n",
      " [[153 173 184]\n",
      "  [153 173 184]\n",
      "  [153 173 184]\n",
      "  ...\n",
      "  [152 171 184]\n",
      "  [152 171 184]\n",
      "  [152 171 184]]\n",
      "\n",
      " ...\n",
      "\n",
      " [[156 175 188]\n",
      "  [156 175 188]\n",
      "  [156 175 188]\n",
      "  ...\n",
      "  [152 174 186]\n",
      "  [152 174 186]\n",
      "  [152 174 186]]\n",
      "\n",
      " [[156 175 188]\n",
      "  [156 175 188]\n",
      "  [156 175 188]\n",
      "  ...\n",
      "  [152 174 186]\n",
      "  [152 174 186]\n",
      "  [152 174 186]]\n",
      "\n",
      " [[156 175 188]\n",
      "  [156 175 188]\n",
      "  [156 175 188]\n",
      "  ...\n",
      "  [152 174 186]\n",
      "  [152 174 186]\n",
      "  [152 174 186]]]\n",
      "flower\n",
      "0\n"
     ]
    }
   ],
   "source": [
    "print(train[0][\"image\"])\n",
    "print(train[0][\"category\"])\n",
    "print(train[0][\"label\"])"
   ]
  },
  {
   "cell_type": "markdown",
   "metadata": {},
   "source": [
    "## Normalizacja danych"
   ]
  },
  {
   "cell_type": "code",
   "execution_count": 16,
   "metadata": {},
   "outputs": [],
   "source": [
    "def get_norm_params(dataset):\n",
    "    mean = np.mean(dataset)\n",
    "    std_dev = np.std(dataset)\n",
    "    return mean, std_dev\n",
    "\n",
    "def normalize(dataset, mean, std_dev):\n",
    "    return (dataset - mean) / std_dev\n",
    "\n",
    "train_images = [x[\"image\"] for x in train]\n",
    "valid_images = [x[\"image\"] for x in valid]\n",
    "test_images = [x[\"image\"] for x in test]\n",
    "\n",
    "train_mean, train_std_dev = get_norm_params(train_images)\n",
    "\n",
    "train_images_norm = normalize(train_images, train_mean, train_std_dev)\n",
    "valid_images_norm = normalize(valid_images, train_mean, train_std_dev)\n",
    "test_images_norm = normalize(test_images, train_mean, train_std_dev)"
   ]
  },
  {
   "cell_type": "code",
   "execution_count": 17,
   "metadata": {},
   "outputs": [],
   "source": [
    "for idx, img in enumerate(train_images_norm):\n",
    "    train[idx][\"image_norm\"] = train_images_norm[idx]\n",
    "\n",
    "for idx, img in enumerate(valid_images_norm):\n",
    "    valid[idx][\"image_norm\"] = valid_images_norm[idx]\n",
    "\n",
    "for idx, img in enumerate(test_images_norm):\n",
    "    test[idx][\"image_norm\"] = test_images_norm[idx]"
   ]
  },
  {
   "cell_type": "code",
   "execution_count": null,
   "metadata": {},
   "outputs": [],
   "source": []
  }
 ],
 "metadata": {
  "kernelspec": {
   "display_name": "ds",
   "language": "python",
   "name": "python3"
  },
  "language_info": {
   "codemirror_mode": {
    "name": "ipython",
    "version": 3
   },
   "file_extension": ".py",
   "mimetype": "text/x-python",
   "name": "python",
   "nbconvert_exporter": "python",
   "pygments_lexer": "ipython3",
   "version": "3.9.12"
  }
 },
 "nbformat": 4,
 "nbformat_minor": 2
}
